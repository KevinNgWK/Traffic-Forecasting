{
 "cells": [
  {
   "cell_type": "code",
   "execution_count": 1,
   "metadata": {},
   "outputs": [],
   "source": [
    "import math\n",
    "import os\n",
    "import pandas as pd\n",
    "import numpy as np\n",
    "import matplotlib.pyplot as plt\n",
    "from collections import deque"
   ]
  },
  {
   "cell_type": "code",
   "execution_count": 2,
   "metadata": {},
   "outputs": [],
   "source": [
    "\"\"\" LATTICE-BASED DBSCAN \"\"\"\n",
    "class DBSCAN:\n",
    "    def __init__(self, df, config):\n",
    "        self.df = df\n",
    "        self.numRow = config['NumRow']\n",
    "        self.numCol = config['NumCol']\n",
    "        self.min_x = config['Min_x']\n",
    "        self.min_y = config['Min_y']\n",
    "        self.increment = config['Increment']\n",
    "        self.vesselType = config['VesselType']\n",
    "        self.minSC = config['MinSC']\n",
    "        self.minNeigb = config['MinNeigb']\n",
    "        \n",
    "        self.lattice = self.initialize_lattice()\n",
    "    \n",
    "    def get_index(self, pos_x, pos_y):\n",
    "        index_x = math.ceil((pos_x - self.min_x) / self.increment) - 1\n",
    "        index_y = self.numRow - math.ceil((pos_y - self.min_y) / self.increment)\n",
    "        return index_x, index_y\n",
    "    \n",
    "    def initialize_lattice(self):\n",
    "        lattice = [[None] * self.numCol for _ in range(self.numRow)]\n",
    "        for i in range(self.numRow):\n",
    "            for j in range(self.numCol):\n",
    "                lattice[self.numRow-1-i][j] = {'x': self.min_x + j*self.increment,\n",
    "                                               'y': self.min_y + i*self.increment,\n",
    "                                               'code': None,\n",
    "                                               'sampleCount': 0,\n",
    "                                               'type/vslid': self.vesselType,\n",
    "                                               'label': None,\n",
    "                                               'clusterId': None}\n",
    "        for idx, row in self.df.iterrows():\n",
    "            index_x, index_y = self.get_index(row['x'], row['y'])\n",
    "            if row['x'] == self.min_x:\n",
    "                index_x = 0\n",
    "            if row['y'] == self.min_y:\n",
    "                index_y = 0\n",
    "            lattice[index_y][index_x]['sampleCount'] += 1\n",
    "        return lattice\n",
    "    \n",
    "    def get_neighbors(self, col, row):\n",
    "        positions = [(col-1, row), (col-1, row-1), \n",
    "                     (col, row-1), (col+1, row-1), \n",
    "                     (col+1, row), (col+1, row+1), \n",
    "                     (col, row+1), (col-1, row+1)]\n",
    "        ret = []\n",
    "        numNeigb = 0\n",
    "        for pos in positions:\n",
    "            if (pos[0] < 0 or pos[0] >= len(self.lattice[0]) or\n",
    "                    pos[1] < 0 or pos[1] >= len(self.lattice)):\n",
    "                continue\n",
    "            if self.lattice[pos[1]][pos[0]] == 'noise':\n",
    "                continue\n",
    "            else:\n",
    "                if self.lattice[pos[1]][pos[0]]['sampleCount'] <= self.minSC:\n",
    "                    self.lattice[pos[1]][pos[0]]['label'] = 'noise'\n",
    "                else:\n",
    "                    if not self.lattice[pos[1]][pos[0]]['label']:\n",
    "                        ret.append(pos)\n",
    "                    numNeigb += 1\n",
    "        return ret, numNeigb\n",
    "    \n",
    "    def process_node(self, node, curr_cluster):\n",
    "        q = deque()\n",
    "        if self.lattice[node[1]][node[0]]['sampleCount'] <= self.minSC:\n",
    "            self.lattice[node[1]][node[0]]['label'] = 'noise'\n",
    "            return False\n",
    "        neighbors, numNeigb = self.get_neighbors(node[0], node[1])\n",
    "        \n",
    "        if numNeigb >= self.minNeigb:\n",
    "            self.lattice[node[1]][node[0]]['clusterId'] = curr_cluster\n",
    "            self.lattice[node[1]][node[0]]['label'] = 'processed'\n",
    "            for neighbor in neighbors:\n",
    "                q.append(neighbor)\n",
    "                self.lattice[neighbor[1]][neighbor[0]]['label'] = 'unprocessed'\n",
    "        else:\n",
    "            return False\n",
    "        \n",
    "        while q:\n",
    "            cur = q.popleft()\n",
    "            self.lattice[cur[1]][cur[0]]['clusterId'] = curr_cluster\n",
    "            self.lattice[cur[1]][cur[0]]['label'] = 'processed'\n",
    "            neighbors, numNeigb = self.get_neighbors(cur[0], cur[1])\n",
    "            \n",
    "            if numNeigb >= self.minNeigb:\n",
    "                for neighbor in neighbors:\n",
    "                    q.append(neighbor)\n",
    "                    self.lattice[neighbor[1]][neighbor[0]]['label'] = 'unprocessed'\n",
    "        return True\n",
    "    \n",
    "    def scan(self):\n",
    "        curr_cluster = 1\n",
    "        for i in range(self.numRow):\n",
    "            for j in range(self.numCol):\n",
    "                if self.lattice[i][j]['label'] == 'noise' or self.lattice[i][j]['label'] == 'processed':\n",
    "                    continue\n",
    "                else:\n",
    "                    node = (j,i)\n",
    "                    foundCluster = self.process_node(node, curr_cluster)\n",
    "                    if foundCluster:\n",
    "                        curr_cluster += 1\n",
    "                        \n",
    "                        \n",
    "\"\"\" KDE BASED VESSEL MOTION BEHAVIOR \"\"\"\n",
    "from sklearn.neighbors import KernelDensity\n",
    "# from sklearn.model_selection import GridSearchCV\n",
    "\n",
    "class kde_motion:\n",
    "    def __init__(self, df, config):\n",
    "        self.df = df\n",
    "        self.time_windows = config['TimeWindows']\n",
    "        self.store_param = config['StoreParam']\n",
    "        self.vessels = self.get_vessels()\n",
    "        self.vessels_pdfs = {}\n",
    "        \n",
    "    def get_vessels(self):\n",
    "        return self.df['MMSI'].unique()\n",
    "    \n",
    "    def get_vessel_df(self, selected_vessel):\n",
    "        new_df = self.df[self.df.MMSI == selected_vessel]\n",
    "        new_df = new_df.reset_index()\n",
    "        return new_df\n",
    "    \n",
    "    def get_traveling_dist(self, vessel_x, vessel_y, vessel_time, time_window):\n",
    "        num_segments = (int(vessel_time.max()) - int(vessel_time.min())) // time_window\n",
    "        traveling_dist = [None] * num_segments\n",
    "        traveling_variation = [None] * (num_segments - 1)\n",
    "        \n",
    "        j = 1\n",
    "        prev_x, prev_y = vessel_x[0], vessel_y[0]\n",
    "        total_traveling_dist = 0\n",
    "        for i in range(num_segments):\n",
    "            time = (i+1) * time_window + vessel_time[0]\n",
    "            while time > vessel_time[j]:\n",
    "                j += 1\n",
    "            ratio = (time - vessel_time[j-1]) / (vessel_time[j] - vessel_time[j-1])\n",
    "            pos_x = (vessel_x[j] - vessel_x[j-1]) * ratio + prev_x\n",
    "            pos_y = (vessel_y[j] - vessel_y[j-1]) * ratio + prev_y\n",
    "            distance = ((pos_x - prev_x) ** 2 + (pos_y - prev_y) ** 2) ** 0.5\n",
    "            total_traveling_dist += distance\n",
    "            traveling_dist[i] = total_traveling_dist\n",
    "            prev_x, prev_y = pos_x, pos_y\n",
    "            if i>0:\n",
    "                traveling_variation[i-1] = traveling_dist[i] - traveling_dist[i-1]\n",
    "\n",
    "        return np.array(traveling_dist), np.array(traveling_variation)\n",
    "    \n",
    "    def conduct_kde_single(self, time_window, selected_vessel):\n",
    "        new_df = self.get_vessel_df(selected_vessel)\n",
    "        traveling_dist, traveling_variation = self.get_traveling_dist(new_df['x'], new_df['y'], new_df['time'], time_window)\n",
    "        \n",
    "#         grid = GridSearchCV(KernelDensity(kernel='gaussian'),\n",
    "#                            {'bandwidth': np.linspace(0.1, 1.0, 30)},\n",
    "#                            cv=20)\n",
    "#         grid.fit(traveling_variation[:, None])\n",
    "#         x_grid = np.linspace(self.store_param[0], self.store_param[1], self.store_param[2])\n",
    "#         kde = grid.best_estimator_\n",
    "#         pdf = np.exp(kde.score_samples(x_grid[:, None]))\n",
    "\n",
    "        kde = KernelDensity(kernel='gaussian', bandwidth=0.1).fit(traveling_variation[:, None])\n",
    "        x_grid = np.linspace(self.store_param[0], self.store_param[1], self.store_param[2])\n",
    "        pdf = np.exp(kde.score_samples(x_grid[:, None]))\n",
    "        \n",
    "        return pdf\n",
    "    \n",
    "    def get_pdfs(self):\n",
    "        for vessel in self.vessels:  # HERE WE ONLY USE 5 VESSELS TO CALCULATE\n",
    "            vessel_pdf_list = {}\n",
    "            for time_window in self.time_windows:\n",
    "                vessel_pdf_list[time_window] = (self.conduct_kde_single(time_window, vessel))\n",
    "            self.vessels_pdfs[str(vessel)] = vessel_pdf_list\n",
    "        return self.vessels_pdfs\n",
    "    \n",
    "    def combine_pdfs(self):\n",
    "        combined_pdfs = {}\n",
    "        for i in range(len(self.time_windows)):\n",
    "            comb_pdf = np.zeros(self.store_param[2])\n",
    "            for key in self.vessels_pdfs.keys():\n",
    "                comb_pdf += self.vessels_pdfs[key][self.time_windows[i]]\n",
    "            comb_pdf /= len(self.vessels_pdfs)\n",
    "            combined_pdfs[self.time_windows[i]] = comb_pdf\n",
    "        return combined_pdfs"
   ]
  },
  {
   "cell_type": "code",
   "execution_count": 3,
   "metadata": {},
   "outputs": [
    {
     "name": "stdout",
     "output_type": "stream",
     "text": [
      "(13457486, 6)\n"
     ]
    },
    {
     "data": {
      "text/html": [
       "<div>\n",
       "<style scoped>\n",
       "    .dataframe tbody tr th:only-of-type {\n",
       "        vertical-align: middle;\n",
       "    }\n",
       "\n",
       "    .dataframe tbody tr th {\n",
       "        vertical-align: top;\n",
       "    }\n",
       "\n",
       "    .dataframe thead th {\n",
       "        text-align: right;\n",
       "    }\n",
       "</style>\n",
       "<table border=\"1\" class=\"dataframe\">\n",
       "  <thead>\n",
       "    <tr style=\"text-align: right;\">\n",
       "      <th></th>\n",
       "      <th>MMSI</th>\n",
       "      <th>x</th>\n",
       "      <th>y</th>\n",
       "      <th>time</th>\n",
       "      <th>VesselType</th>\n",
       "      <th>Heading</th>\n",
       "    </tr>\n",
       "  </thead>\n",
       "  <tbody>\n",
       "    <tr>\n",
       "      <th>0</th>\n",
       "      <td>366856070</td>\n",
       "      <td>4.076630e+06</td>\n",
       "      <td>5.117847e+06</td>\n",
       "      <td>0.0</td>\n",
       "      <td>31.0</td>\n",
       "      <td>NaN</td>\n",
       "    </tr>\n",
       "    <tr>\n",
       "      <th>1</th>\n",
       "      <td>366862820</td>\n",
       "      <td>4.081162e+06</td>\n",
       "      <td>5.110275e+06</td>\n",
       "      <td>0.0</td>\n",
       "      <td>31.0</td>\n",
       "      <td>NaN</td>\n",
       "    </tr>\n",
       "  </tbody>\n",
       "</table>\n",
       "</div>"
      ],
      "text/plain": [
       "        MMSI             x             y  time  VesselType  Heading\n",
       "0  366856070  4.076630e+06  5.117847e+06   0.0        31.0      NaN\n",
       "1  366862820  4.081162e+06  5.110275e+06   0.0        31.0      NaN"
      ]
     },
     "execution_count": 3,
     "metadata": {},
     "output_type": "execute_result"
    }
   ],
   "source": [
    "df = pd.read_csv('./ProcessedData_engined_wutm.csv')\n",
    "df = df[['MMSI', 'x', 'y', 'time', 'VesselType', 'Heading']]\n",
    "print(df.shape)\n",
    "df.head(2)"
   ]
  },
  {
   "cell_type": "code",
   "execution_count": 8,
   "metadata": {},
   "outputs": [],
   "source": [
    "# Set config file\n",
    "FilterMap = [4090000,4070000,5130000,5110000]\n",
    "TimeWindows = [i for i in range(1, 61)]\n",
    "config = {'ScaleDown': 1,\n",
    "          'VesselType': None,\n",
    "          'FilterMap': FilterMap,\n",
    "          'NumCol': 1000,\n",
    "          'NumRow': 1000,\n",
    "          'Increment': 20,\n",
    "          'Min_x': FilterMap[1],\n",
    "          'Min_y': FilterMap[3],\n",
    "          'MinSC': 2,\n",
    "          'MinNeigb': 1,\n",
    "          'StoreParam': [-4, 4, 101],\n",
    "          'TimeWindows': TimeWindows,\n",
    "          'Threshold': None,\n",
    "          }"
   ]
  },
  {
   "cell_type": "code",
   "execution_count": 9,
   "metadata": {},
   "outputs": [
    {
     "name": "stdout",
     "output_type": "stream",
     "text": [
      "Runtime for DBSCAN is: 1398.3026189804077\n"
     ]
    }
   ],
   "source": [
    "import time\n",
    "\n",
    "start = time.time()\n",
    "DBSCAN_object = DBSCAN(df, config)\n",
    "DBSCAN_object.scan()\n",
    "lattice = DBSCAN_object.lattice\n",
    "end = time.time()\n",
    "print('Runtime for DBSCAN is: {}'.format(end-start))"
   ]
  },
  {
   "cell_type": "code",
   "execution_count": 10,
   "metadata": {},
   "outputs": [],
   "source": [
    "# start = time.time()\n",
    "# KDE_object = kde_motion(df, config)\n",
    "# vessel_pdfs = KDE_object.get_pdfs()\n",
    "# end = time.time()\n",
    "# print('Runtime for KDE is: {}'.format(end-start))"
   ]
  },
  {
   "cell_type": "code",
   "execution_count": 11,
   "metadata": {},
   "outputs": [
    {
     "name": "stdout",
     "output_type": "stream",
     "text": [
      "{1, 2, 3, 4, 5, 6, 7, 8, 9, 10, 11, 12, 13, 14, 15, 16, 17, 18, 19, 20, 21, 22, 23, 24, 25, 26, 27, 28, 29}\n"
     ]
    },
    {
     "data": {
      "text/plain": [
       "<matplotlib.collections.PathCollection at 0x19749655080>"
      ]
     },
     "execution_count": 11,
     "metadata": {},
     "output_type": "execute_result"
    },
    {
     "data": {
      "image/png": "[encoded data removed]",
      "text/plain": [
       "<Figure size 720x360 with 2 Axes>"
      ]
     },
     "metadata": {
      "needs_background": "light"
     },
     "output_type": "display_data"
    }
   ],
   "source": [
    "visualize_arr = np.empty([config['NumRow'], config['NumCol']])\n",
    "clusters = []\n",
    "for i in range(config['NumRow']):\n",
    "    for j in range(config['NumCol']):\n",
    "        if lattice[i][j]['clusterId'] == None:\n",
    "            visualize_arr[i][j] = 50\n",
    "        else:\n",
    "            visualize_arr[i][j] = int(lattice[i][j]['clusterId'])\n",
    "            clusters.append(int(lattice[i][j]['clusterId']))\n",
    "print(set(clusters))\n",
    "fig, axes = plt.subplots(1, 2, figsize=(10,5))\n",
    "axes[0].imshow(visualize_arr)\n",
    "axes[1].scatter(df['x'], df['y'])"
   ]
  },
  {
   "cell_type": "code",
   "execution_count": 41,
   "metadata": {},
   "outputs": [
    {
     "data": {
      "text/plain": [
       "<matplotlib.image.AxesImage at 0x19742e7c048>"
      ]
     },
     "execution_count": 41,
     "metadata": {},
     "output_type": "execute_result"
    },
    {
     "data": {
      "image/png": "[encoded data removed]",
      "text/plain": [
       "<Figure size 720x360 with 2 Axes>"
      ]
     },
     "metadata": {
      "needs_background": "light"
     },
     "output_type": "display_data"
    }
   ],
   "source": [
    "visualize_arr = np.empty([config['NumRow'], config['NumCol']])\n",
    "clusters = []\n",
    "for i in range(config['NumRow']):\n",
    "    for j in range(config['NumCol']):\n",
    "        if lattice[i][j]['clusterId'] == 29:\n",
    "            visualize_arr[i][j] = 1\n",
    "        else:\n",
    "            visualize_arr[i][j] = 50\n",
    "fig, axes = plt.subplots(1, 2, figsize=(10,5))\n",
    "axes[0].imshow(visualize_arr)\n",
    "# axes[1].scatter(df['x'], df['y'])"
   ]
  },
  {
   "cell_type": "code",
   "execution_count": null,
   "metadata": {},
   "outputs": [],
   "source": [
    "x_grid = np.linspace(config['StoreParam'][0], config['StoreParam'][1], config['StoreParam'][2])\n",
    "fig, ax = plt.subplots()\n",
    "ax.plot(x_grid, vessels_pdfs['211578000.0'][60], linewidth=3, alpha=0.5)\n",
    "ax.legend(loc='upper left')\n",
    "ax.set_xlim(-4, 4)"
   ]
  }
 ],
 "metadata": {
  "kernelspec": {
   "display_name": "Traffic",
   "language": "python",
   "name": "traffic"
  },
  "language_info": {
   "codemirror_mode": {
    "name": "ipython",
    "version": 3
   },
   "file_extension": ".py",
   "mimetype": "text/x-python",
   "name": "python",
   "nbconvert_exporter": "python",
   "pygments_lexer": "ipython3",
   "version": "3.6.12"
  }
 },
 "nbformat": 4,
 "nbformat_minor": 4
}
